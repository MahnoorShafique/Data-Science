{
 "cells": [
  {
   "cell_type": "code",
   "execution_count": null,
   "id": "e8789acf",
   "metadata": {},
   "outputs": [],
   "source": [
    "import numpy as np\n",
    "import pandas as pd\n",
    "import matplotlib.pyplot as plt\n",
    "import seaborn as sns"
   ]
  },
  {
   "cell_type": "code",
   "execution_count": null,
   "id": "50bde3b1",
   "metadata": {},
   "outputs": [],
   "source": [
    "df=pd.read_csv('sheet1.csv')"
   ]
  },
  {
   "cell_type": "code",
   "execution_count": null,
   "id": "c97627c5",
   "metadata": {},
   "outputs": [],
   "source": [
    "df2=pd.read_csv('sheet2.csv')"
   ]
  },
  {
   "cell_type": "code",
   "execution_count": null,
   "id": "a21d2c36",
   "metadata": {},
   "outputs": [],
   "source": [
    "df.head()"
   ]
  },
  {
   "cell_type": "code",
   "execution_count": null,
   "id": "48d25f26",
   "metadata": {},
   "outputs": [],
   "source": [
    "col1=df['Item']"
   ]
  },
  {
   "cell_type": "code",
   "execution_count": null,
   "id": "553d4c3d",
   "metadata": {},
   "outputs": [],
   "source": [
    "col1"
   ]
  },
  {
   "cell_type": "code",
   "execution_count": null,
   "id": "97cdd3eb",
   "metadata": {},
   "outputs": [],
   "source": [
    "col2=df2['Item']"
   ]
  },
  {
   "cell_type": "code",
   "execution_count": null,
   "id": "291006db",
   "metadata": {},
   "outputs": [],
   "source": [
    "with open('sheet1.csv', 'r') as t1, open('sheet2.csv', 'r') as t2:\n",
    "    fileone = t1.readlines()\n",
    "    filetwo = t2.readlines()\n",
    "    print(fileone)\n",
    "    print(filetwo)\n",
    "\n",
    "with open('update.csv', 'w') as outFile:\n",
    "    for line in filetwo:\n",
    "        if line not in fileone:\n",
    "            outFile.write(line)"
   ]
  },
  {
   "cell_type": "code",
   "execution_count": null,
   "id": "993743a9",
   "metadata": {},
   "outputs": [],
   "source": []
  },
  {
   "cell_type": "code",
   "execution_count": null,
   "id": "1a9f022f",
   "metadata": {},
   "outputs": [],
   "source": []
  },
  {
   "cell_type": "code",
   "execution_count": null,
   "id": "a8e7ac24",
   "metadata": {},
   "outputs": [],
   "source": []
  },
  {
   "cell_type": "code",
   "execution_count": null,
   "id": "81dfd5c4",
   "metadata": {},
   "outputs": [],
   "source": []
  }
 ],
 "metadata": {
  "kernelspec": {
   "display_name": "Python 3 (ipykernel)",
   "language": "python",
   "name": "python3"
  },
  "language_info": {
   "codemirror_mode": {
    "name": "ipython",
    "version": 3
   },
   "file_extension": ".py",
   "mimetype": "text/x-python",
   "name": "python",
   "nbconvert_exporter": "python",
   "pygments_lexer": "ipython3",
   "version": "3.9.0"
  }
 },
 "nbformat": 4,
 "nbformat_minor": 5
}
