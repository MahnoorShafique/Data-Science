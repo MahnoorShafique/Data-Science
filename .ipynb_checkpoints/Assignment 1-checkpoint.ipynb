{
 "cells": [
  {
   "cell_type": "markdown",
   "id": "1b0ac3cb",
   "metadata": {},
   "source": [
    "# Q1"
   ]
  },
  {
   "cell_type": "code",
   "execution_count": 8,
   "id": "3737ab49",
   "metadata": {},
   "outputs": [
    {
     "name": "stdout",
     "output_type": "stream",
     "text": [
      "Twinkle, twinkle, little star\n",
      "\t How I wonder what you are!\n",
      "\t\tup above the world so high\n",
      "\t\tlike a diamond in the sky\n",
      "Twinkle, twinkle, little star\n",
      "\t How I wonder what you are!\n",
      "\t\n"
     ]
    }
   ],
   "source": [
    "print(\"Twinkle, twinkle, little star\\n\\t How I wonder what you are!\\n\\t\"\n",
    "      \"\\tup above the world so high\\n\\t\\tlike a diamond in the sky\\n\"\n",
    "     \"Twinkle, twinkle, little star\\n\\t How I wonder what you are!\\n\\t\")"
   ]
  },
  {
   "cell_type": "markdown",
   "id": "958ebf84",
   "metadata": {},
   "source": [
    "# Q2"
   ]
  },
  {
   "cell_type": "code",
   "execution_count": 14,
   "id": "0f9055cd",
   "metadata": {},
   "outputs": [
    {
     "name": "stdout",
     "output_type": "stream",
     "text": [
      "3.9.0\n"
     ]
    }
   ],
   "source": [
    "from platform import python_version\n",
    "\n",
    "print(python_version())"
   ]
  },
  {
   "cell_type": "markdown",
   "id": "ac90e564",
   "metadata": {},
   "source": [
    "# Q3"
   ]
  },
  {
   "cell_type": "code",
   "execution_count": 15,
   "id": "22af26c1",
   "metadata": {},
   "outputs": [
    {
     "name": "stdout",
     "output_type": "stream",
     "text": [
      "2021-12-28\n"
     ]
    }
   ],
   "source": [
    "from datetime import date\n",
    "todaysdate=date.today()\n",
    "print(todaysdate)"
   ]
  },
  {
   "cell_type": "markdown",
   "id": "37a0754f",
   "metadata": {},
   "source": [
    "# Q4"
   ]
  },
  {
   "cell_type": "code",
   "execution_count": 17,
   "id": "623db3cc",
   "metadata": {},
   "outputs": [
    {
     "name": "stdout",
     "output_type": "stream",
     "text": [
      "Enter radius2\n",
      "12.566370614359172\n"
     ]
    }
   ],
   "source": [
    "import math\n",
    "radius=int(input(\"Enter radius\"))\n",
    "area=math.pi*radius*radius\n",
    "print(area)"
   ]
  },
  {
   "cell_type": "markdown",
   "id": "ea8327a5",
   "metadata": {},
   "source": [
    "# Q5"
   ]
  },
  {
   "cell_type": "code",
   "execution_count": 18,
   "id": "f5d6eafb",
   "metadata": {},
   "outputs": [
    {
     "name": "stdout",
     "output_type": "stream",
     "text": [
      "Enter first namemahnoor\n",
      "Enter second nameshafique\n",
      "shafique mahnoor\n"
     ]
    }
   ],
   "source": [
    "firstname=input(\"Enter first name\")\n",
    "lastname=input(\"Enter second name\")\n",
    "print(lastname+\" \"+firstname)"
   ]
  },
  {
   "cell_type": "markdown",
   "id": "37a98650",
   "metadata": {},
   "source": [
    "# Q6"
   ]
  },
  {
   "cell_type": "code",
   "execution_count": 20,
   "id": "aa293c3c",
   "metadata": {},
   "outputs": [
    {
     "name": "stdout",
     "output_type": "stream",
     "text": [
      " Enter first number5\n",
      " Enter second number6\n",
      "11\n"
     ]
    }
   ],
   "source": [
    "first=int(input(\" Enter first number\"))\n",
    "second=int(input(\" Enter second number\"))\n",
    "print(first+second)"
   ]
  },
  {
   "cell_type": "code",
   "execution_count": null,
   "id": "29d2e99b",
   "metadata": {},
   "outputs": [],
   "source": []
  },
  {
   "cell_type": "code",
   "execution_count": 7,
   "id": "00813d63",
   "metadata": {},
   "outputs": [],
   "source": []
  },
  {
   "cell_type": "code",
   "execution_count": 8,
   "id": "71fd2133",
   "metadata": {},
   "outputs": [],
   "source": []
  },
  {
   "cell_type": "code",
   "execution_count": 9,
   "id": "8d1892dd",
   "metadata": {},
   "outputs": [],
   "source": []
  },
  {
   "cell_type": "code",
   "execution_count": null,
   "id": "8091e09b",
   "metadata": {},
   "outputs": [],
   "source": []
  },
  {
   "cell_type": "code",
   "execution_count": null,
   "id": "f91df1cb",
   "metadata": {},
   "outputs": [],
   "source": []
  },
  {
   "cell_type": "code",
   "execution_count": null,
   "id": "d95a3124",
   "metadata": {},
   "outputs": [],
   "source": []
  },
  {
   "cell_type": "code",
   "execution_count": null,
   "id": "70c59be8",
   "metadata": {},
   "outputs": [],
   "source": []
  },
  {
   "cell_type": "code",
   "execution_count": null,
   "id": "f4e98472",
   "metadata": {},
   "outputs": [],
   "source": []
  },
  {
   "cell_type": "code",
   "execution_count": null,
   "id": "9df9dacb",
   "metadata": {},
   "outputs": [],
   "source": []
  },
  {
   "cell_type": "code",
   "execution_count": null,
   "id": "30ebdfab",
   "metadata": {},
   "outputs": [],
   "source": [
    "\n",
    "    "
   ]
  },
  {
   "cell_type": "code",
   "execution_count": null,
   "id": "256754bf",
   "metadata": {},
   "outputs": [],
   "source": []
  }
 ],
 "metadata": {
  "kernelspec": {
   "display_name": "Python 3 (ipykernel)",
   "language": "python",
   "name": "python3"
  },
  "language_info": {
   "codemirror_mode": {
    "name": "ipython",
    "version": 3
   },
   "file_extension": ".py",
   "mimetype": "text/x-python",
   "name": "python",
   "nbconvert_exporter": "python",
   "pygments_lexer": "ipython3",
   "version": "3.9.0"
  }
 },
 "nbformat": 4,
 "nbformat_minor": 5
}
